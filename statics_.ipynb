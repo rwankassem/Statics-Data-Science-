{
  "nbformat": 4,
  "nbformat_minor": 0,
  "metadata": {
    "colab": {
      "provenance": []
    },
    "kernelspec": {
      "name": "python3",
      "display_name": "Python 3"
    },
    "language_info": {
      "name": "python"
    }
  },
  "cells": [
    {
      "cell_type": "code",
      "execution_count": 1,
      "metadata": {
        "id": "-b51pkcftTyL"
      },
      "outputs": [],
      "source": [
        "import pandas as pd\n",
        "import numpy as np\n",
        "import matplotlib.pyplot as plt\n",
        "import seaborn as sns\n"
      ]
    },
    {
      "cell_type": "code",
      "source": [
        "# Initialize an empty list to store numbers\n",
        "temperatures = [23, 25, 20, 23, -5, 21, 18, 19, 24, 21,19, 24, 0,\n",
        "                20, 24, 55, 22, 50, 22, 20, 21, 22, 20, 25, 19,\n",
        "                22, 26, 23, 21, 23, 17, 20, 18]"
      ],
      "metadata": {
        "id": "udZL2Zy4tYr0"
      },
      "execution_count": 2,
      "outputs": []
    },
    {
      "cell_type": "code",
      "source": [
        "mean_temp=sum(temperatures)/len(temperatures)\n",
        "print(mean_temp)"
      ],
      "metadata": {
        "colab": {
          "base_uri": "https://localhost:8080/"
        },
        "id": "Ffgc58Xrt0tJ",
        "outputId": "473d3707-fb74-4772-9734-d86351b90e16"
      },
      "execution_count": 4,
      "outputs": [
        {
          "output_type": "stream",
          "name": "stdout",
          "text": [
            "21.87878787878788\n"
          ]
        }
      ]
    },
    {
      "cell_type": "code",
      "source": [
        "#median\n",
        "n=len(temperatures)\n",
        "temperatures.sort()\n",
        "if n%2==0:\n",
        "    median=temperatures[n//2]\n",
        "else:\n",
        "    median=(temperatures[n//2]+temperatures[n//2-1])/2\n",
        "print(median)"
      ],
      "metadata": {
        "colab": {
          "base_uri": "https://localhost:8080/"
        },
        "id": "ph04hZzntkzv",
        "outputId": "42e6ef55-1b39-4931-a57e-e7dd876c11ae"
      },
      "execution_count": 11,
      "outputs": [
        {
          "output_type": "stream",
          "name": "stdout",
          "text": [
            "21.0\n"
          ]
        }
      ]
    },
    {
      "cell_type": "code",
      "source": [
        "#mode\n",
        "from collections import Counter\n",
        "data=Counter(temperatures)\n",
        "mode_data=dict(data)\n",
        "mode=[i for i,j in mode_data.items() if j==max(list(data.values()))]\n",
        "print(mode)"
      ],
      "metadata": {
        "colab": {
          "base_uri": "https://localhost:8080/"
        },
        "id": "ZvuTzWfguSax",
        "outputId": "00058192-c5ac-4736-abda-f2b839c2fa47"
      },
      "execution_count": 14,
      "outputs": [
        {
          "output_type": "stream",
          "name": "stdout",
          "text": [
            "[20]\n"
          ]
        }
      ]
    },
    {
      "cell_type": "code",
      "source": [
        "#variance\n",
        "variance=sum([(i-mean)**2 for i in temperatures])/len(temperatures)\n",
        "print(variance)"
      ],
      "metadata": {
        "colab": {
          "base_uri": "https://localhost:8080/"
        },
        "id": "q4dyyGINvKkr",
        "outputId": "22f17dc9-139b-4fa7-c29e-5e074166117d"
      },
      "execution_count": 15,
      "outputs": [
        {
          "output_type": "stream",
          "name": "stdout",
          "text": [
            "98.28833792470162\n"
          ]
        }
      ]
    },
    {
      "cell_type": "code",
      "source": [
        "#standard diviation\n",
        "sd=(sum([(i-mean)**2 for i in temperatures])/len(temperatures))**0.5\n",
        "print(sd)"
      ],
      "metadata": {
        "colab": {
          "base_uri": "https://localhost:8080/"
        },
        "id": "tVlaFM2Evs6W",
        "outputId": "0841ac59-e39e-4131-8f83-a2a65ad6ef60"
      },
      "execution_count": 16,
      "outputs": [
        {
          "output_type": "stream",
          "name": "stdout",
          "text": [
            "9.914047504662342\n"
          ]
        }
      ]
    },
    {
      "cell_type": "code",
      "source": [
        "#range\n",
        "range=max(temperatures)-min(temperatures)\n",
        "print(range)"
      ],
      "metadata": {
        "colab": {
          "base_uri": "https://localhost:8080/"
        },
        "id": "SAT6hdLcwYQJ",
        "outputId": "54cf2463-bb5f-4372-c417-791feeb4b1bb"
      },
      "execution_count": 17,
      "outputs": [
        {
          "output_type": "stream",
          "name": "stdout",
          "text": [
            "60\n"
          ]
        }
      ]
    },
    {
      "cell_type": "code",
      "source": [
        "#IQR\n",
        "Q3=np.quantile(temperatures,0.75)\n",
        "Q1=np.quantile(temperatures,0.25)\n",
        "IQR=Q3-Q1\n",
        "print(IQR)"
      ],
      "metadata": {
        "colab": {
          "base_uri": "https://localhost:8080/"
        },
        "id": "wMjMsAZCwd1B",
        "outputId": "8586e89f-4fb0-4e1a-df8d-3209a9072286"
      },
      "execution_count": 18,
      "outputs": [
        {
          "output_type": "stream",
          "name": "stdout",
          "text": [
            "3.0\n"
          ]
        }
      ]
    },
    {
      "cell_type": "code",
      "source": [
        "#skewness\n",
        "skew=(3*( mean_temp-median))/sd\n",
        "print(skew)"
      ],
      "metadata": {
        "colab": {
          "base_uri": "https://localhost:8080/"
        },
        "id": "Uw1iMHEsyiD3",
        "outputId": "7d7c9e02-2804-446d-840c-9dfba29822a2"
      },
      "execution_count": 23,
      "outputs": [
        {
          "output_type": "stream",
          "name": "stdout",
          "text": [
            "0.2659220298393585\n"
          ]
        }
      ]
    },
    {
      "cell_type": "code",
      "source": [
        "# Kurtosis\n",
        "kurtosis=2*(skew)\n",
        "print(kurtosis)\n"
      ],
      "metadata": {
        "colab": {
          "base_uri": "https://localhost:8080/"
        },
        "id": "Lw_F55LlzyTD",
        "outputId": "ba14cf2d-e24f-4b6d-c519-e079ecdeab7d"
      },
      "execution_count": 26,
      "outputs": [
        {
          "output_type": "stream",
          "name": "stdout",
          "text": [
            "0.531844059678717\n"
          ]
        }
      ]
    },
    {
      "cell_type": "code",
      "source": [
        "from scipy.stats import skew, kurtosis\n",
        "skew=skew(temperatures)\n",
        "print(skew)\n",
        "\n",
        "kurtosis=kurtosis(temperatures)\n",
        "print(kurtosis)"
      ],
      "metadata": {
        "colab": {
          "base_uri": "https://localhost:8080/"
        },
        "id": "C2B8HVlnz7dI",
        "outputId": "d1188908-1851-41dd-858a-4276a8300999"
      },
      "execution_count": 27,
      "outputs": [
        {
          "output_type": "stream",
          "name": "stdout",
          "text": [
            "0.8864658781156224\n",
            "5.098322593354418\n"
          ]
        }
      ]
    },
    {
      "cell_type": "code",
      "source": [
        "def calculate_percentiles(data, percentiles):\n",
        "  return np.percentile(data, percentiles)\n",
        "\n",
        "q1=calculate_percentiles(temperatures,25)\n",
        "q2=calculate_percentiles(temperatures,50)\n",
        "q3=calculate_percentiles(temperatures,75)\n",
        "print(q1,q2,q3)"
      ],
      "metadata": {
        "colab": {
          "base_uri": "https://localhost:8080/"
        },
        "id": "y0_zxYki1Gj7",
        "outputId": "d782d46a-191a-4e9e-b55e-ca2c21f21a86"
      },
      "execution_count": 28,
      "outputs": [
        {
          "output_type": "stream",
          "name": "stdout",
          "text": [
            "20.0 21.0 23.0\n"
          ]
        }
      ]
    },
    {
      "cell_type": "code",
      "source": [
        "iqr=q3-q1\n",
        "lower_bound=q1-1.5*iqr\n",
        "upper_bound=q3+1.5*iqr\n",
        "print(lower_bound,upper_bound)"
      ],
      "metadata": {
        "colab": {
          "base_uri": "https://localhost:8080/"
        },
        "id": "IQDSzEiP1v_4",
        "outputId": "a3acffe9-61c4-44d1-c1d6-59d9a48b195a"
      },
      "execution_count": 29,
      "outputs": [
        {
          "output_type": "stream",
          "name": "stdout",
          "text": [
            "15.5 27.5\n"
          ]
        }
      ]
    }
  ]
}